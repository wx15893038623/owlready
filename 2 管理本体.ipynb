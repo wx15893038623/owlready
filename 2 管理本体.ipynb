{
 "cells": [
  {
   "cell_type": "markdown",
   "metadata": {},
   "source": [
    "# 创建本体"
   ]
  },
  {
   "cell_type": "code",
   "execution_count": 1,
   "metadata": {},
   "outputs": [
    {
     "name": "stderr",
     "output_type": "stream",
     "text": [
      "* Owlready2 * Warning: optimized Cython parser module 'owlready2_optimized' is not available, defaulting to slower Python implementation\n"
     ]
    }
   ],
   "source": [
    "from owlready2 import *"
   ]
  },
  {
   "cell_type": "code",
   "execution_count": 1,
   "metadata": {
    "scrolled": true
   },
   "outputs": [
    {
     "name": "stderr",
     "output_type": "stream",
     "text": [
      "* Owlready2 * Warning: optimized Cython parser module 'owlready2_optimized' is not available, defaulting to slower Python implementation\n"
     ]
    }
   ],
   "source": [
    "onto = get_ontology(\"http://test.org/onto.owl\")"
   ]
  },
  {
   "cell_type": "code",
   "execution_count": 5,
   "metadata": {},
   "outputs": [],
   "source": [
    "onto = get_ontology(\"http://test.org/onto.owl\") # => http://test.org/onto.owl#entity\n",
    "\n",
    "onto = get_ontology(\"http://test.org/onto\") # => http://test.org/onto#entity\n",
    "\n",
    "onto = get_ontology(\"http://test.org/onto/\") # => http://test.org/onto/entity"
   ]
  },
  {
   "cell_type": "markdown",
   "metadata": {},
   "source": [
    "# 加载本体"
   ]
  },
  {
   "cell_type": "code",
   "execution_count": 5,
   "metadata": {},
   "outputs": [],
   "source": [
    "onto = get_ontology(\"file:///Users/Atticus/Desktop/owlready2/pizza_onto.owl\").load()"
   ]
  },
  {
   "cell_type": "code",
   "execution_count": 8,
   "metadata": {},
   "outputs": [],
   "source": [
    "onto = get_ontology(\"./pizza_onto.owl\").load()"
   ]
  },
  {
   "cell_type": "code",
   "execution_count": 9,
   "metadata": {},
   "outputs": [],
   "source": [
    "onto = get_ontology(\"pizza_onto.owl\").load()"
   ]
  },
  {
   "cell_type": "markdown",
   "metadata": {},
   "source": [
    "# 访问本体的内容"
   ]
  },
  {
   "cell_type": "code",
   "execution_count": 9,
   "metadata": {},
   "outputs": [
    {
     "name": "stdout",
     "output_type": "stream",
     "text": [
      "Help on Ontology in module owlready2.namespace object:\n",
      "\n",
      "class Ontology(Namespace, _GraphManager)\n",
      " |  Ontology(world, base_iri, name=None)\n",
      " |  \n",
      " |  Method resolution order:\n",
      " |      Ontology\n",
      " |      Namespace\n",
      " |      _GraphManager\n",
      " |      builtins.object\n",
      " |  \n",
      " |  Methods defined here:\n",
      " |  \n",
      " |  __exit__(self, exc_type=None, exc_val=None, exc_tb=None)\n",
      " |  \n",
      " |  __init__(self, world, base_iri, name=None)\n",
      " |      Initialize self.  See help(type(self)) for accurate signature.\n",
      " |  \n",
      " |  __repr__(self)\n",
      " |      Return repr(self).\n",
      " |  \n",
      " |  destroy(self)\n",
      " |  \n",
      " |  get_children_of(self, Class)\n",
      " |  \n",
      " |  get_imported_ontologies(self)\n",
      " |  \n",
      " |  get_instances_of(self, Class)\n",
      " |  \n",
      " |  get_namespace(self, base_iri, name='')\n",
      " |  \n",
      " |  get_parents_of(self, entity)\n",
      " |  \n",
      " |  get_python_module(self)\n",
      " |  \n",
      " |  indirectly_imported_ontologies(self, already=None)\n",
      " |  \n",
      " |  load(self, only_local=False, fileobj=None, reload=False, reload_if_newer=False, **args)\n",
      " |  \n",
      " |  save(self, file=None, format='rdfxml', **kargs)\n",
      " |  \n",
      " |  set_imported_ontologies(self, l)\n",
      " |  \n",
      " |  set_python_module(self, module_name)\n",
      " |  \n",
      " |  ----------------------------------------------------------------------\n",
      " |  Data descriptors defined here:\n",
      " |  \n",
      " |  imported_ontologies\n",
      " |  \n",
      " |  python_module\n",
      " |  \n",
      " |  ----------------------------------------------------------------------\n",
      " |  Methods inherited from Namespace:\n",
      " |  \n",
      " |  __enter__(self)\n",
      " |  \n",
      " |  __getattr__(self, attr)\n",
      " |  \n",
      " |  __getitem__(self, name)\n",
      " |  \n",
      " |  ----------------------------------------------------------------------\n",
      " |  Data descriptors inherited from Namespace:\n",
      " |  \n",
      " |  __dict__\n",
      " |      dictionary for instance variables (if defined)\n",
      " |  \n",
      " |  __weakref__\n",
      " |      list of weak references to the object (if defined)\n",
      " |  \n",
      " |  ----------------------------------------------------------------------\n",
      " |  Methods inherited from _GraphManager:\n",
      " |  \n",
      " |  annotation_properties(self)\n",
      " |  \n",
      " |  classes(self)\n",
      " |  \n",
      " |  data_properties(self)\n",
      " |  \n",
      " |  different_individuals(self)\n",
      " |  \n",
      " |  disjoint_classes(self)\n",
      " |  \n",
      " |  disjoint_properties(self)\n",
      " |  \n",
      " |  disjoints(self)\n",
      " |  \n",
      " |  general_axioms(self)\n",
      " |  \n",
      " |  get_triples(self, s=None, p=None, o=None)\n",
      " |  \n",
      " |  inconsistent_classes(self)\n",
      " |  \n",
      " |  individuals(self)\n",
      " |  \n",
      " |  object_properties(self)\n",
      " |  \n",
      " |  properties(self)\n",
      " |  \n",
      " |  rules(self)\n",
      " |  \n",
      " |  search(self, _use_str_as_loc_str=True, _case_sensitive=True, _bm25=False, **kargs)\n",
      " |  \n",
      " |  search_one(self, **kargs)\n",
      " |  \n",
      " |  variables(self)\n",
      "\n"
     ]
    }
   ],
   "source": [
    "help(onto)"
   ]
  },
  {
   "cell_type": "code",
   "execution_count": 12,
   "metadata": {},
   "outputs": [
    {
     "data": {
      "text/plain": [
       "[pizza_onto.CheeseTopping,\n",
       " pizza_onto.FishTopping,\n",
       " pizza_onto.MeatTopping,\n",
       " pizza_onto.Pizza,\n",
       " pizza_onto.TomatoTopping,\n",
       " pizza_onto.Topping]"
      ]
     },
     "execution_count": 12,
     "metadata": {},
     "output_type": "execute_result"
    }
   ],
   "source": [
    "list(onto.classes())"
   ]
  },
  {
   "cell_type": "markdown",
   "metadata": {},
   "source": [
    "# 简单的查询"
   ]
  },
  {
   "cell_type": "code",
   "execution_count": 15,
   "metadata": {},
   "outputs": [
    {
     "name": "stdout",
     "output_type": "stream",
     "text": [
      "Help on _SearchList in module owlready2.triplelite object:\n",
      "\n",
      "class _SearchList(owlready2.util.FirstList, _SearchMixin, owlready2.util._LazyListMixin)\n",
      " |  _SearchList(world, prop_vals, c=None, case_sensitive=True, bm25=False)\n",
      " |  \n",
      " |  Built-in mutable sequence.\n",
      " |  \n",
      " |  If no argument is given, the constructor creates a new empty list.\n",
      " |  The argument must be an iterable if specified.\n",
      " |  \n",
      " |  Method resolution order:\n",
      " |      _SearchList\n",
      " |      owlready2.util.FirstList\n",
      " |      _SearchMixin\n",
      " |      owlready2.util._LazyListMixin\n",
      " |      builtins.list\n",
      " |      builtins.object\n",
      " |  \n",
      " |  Methods defined here:\n",
      " |  \n",
      " |  __and__(self, other)\n",
      " |  \n",
      " |  __init__(self, world, prop_vals, c=None, case_sensitive=True, bm25=False)\n",
      " |      Initialize self.  See help(type(self)) for accurate signature.\n",
      " |  \n",
      " |  __or__(self, other)\n",
      " |  \n",
      " |  dump(self)\n",
      " |  \n",
      " |  has_bm25(self)\n",
      " |  \n",
      " |  sql_components(self, last_request=True)\n",
      " |  \n",
      " |  ----------------------------------------------------------------------\n",
      " |  Data descriptors defined here:\n",
      " |  \n",
      " |  alternatives\n",
      " |  \n",
      " |  bm25\n",
      " |  \n",
      " |  conditions\n",
      " |  \n",
      " |  except_conditions\n",
      " |  \n",
      " |  except_params\n",
      " |  \n",
      " |  excepts\n",
      " |  \n",
      " |  id\n",
      " |  \n",
      " |  nested_searchs\n",
      " |  \n",
      " |  params\n",
      " |  \n",
      " |  prop_vals\n",
      " |  \n",
      " |  tables\n",
      " |  \n",
      " |  target\n",
      " |  \n",
      " |  transits\n",
      " |  \n",
      " |  world\n",
      " |  \n",
      " |  ----------------------------------------------------------------------\n",
      " |  Methods inherited from owlready2.util.FirstList:\n",
      " |  \n",
      " |  first(self)\n",
      " |  \n",
      " |  ----------------------------------------------------------------------\n",
      " |  Methods inherited from _SearchMixin:\n",
      " |  \n",
      " |  __len__(self)\n",
      " |      Return len(self).\n",
      " |  \n",
      " |  sql_request(self)\n",
      " |  \n",
      " |  ----------------------------------------------------------------------\n",
      " |  Methods inherited from owlready2.util._LazyListMixin:\n",
      " |  \n",
      " |  __delitem__(self, i)\n",
      " |      Delete self[key].\n",
      " |  \n",
      " |  __eq__(self, o)\n",
      " |      Return self==value.\n",
      " |  \n",
      " |  __getitem__(self, i)\n",
      " |      x.__getitem__(y) <==> x[y]\n",
      " |  \n",
      " |  __iadd__(self, x)\n",
      " |      Implement self+=value.\n",
      " |  \n",
      " |  __imul__(self, x)\n",
      " |      Implement self*=value.\n",
      " |  \n",
      " |  __iter__(self)\n",
      " |      Implement iter(self).\n",
      " |  \n",
      " |  __ne__(self, o)\n",
      " |      Return self!=value.\n",
      " |  \n",
      " |  __repr__(self)\n",
      " |      Return repr(self).\n",
      " |  \n",
      " |  __setitem__(self, i, x)\n",
      " |      Set self[key] to value.\n",
      " |  \n",
      " |  __str__(self)\n",
      " |      Return str(self).\n",
      " |  \n",
      " |  append(self, e)\n",
      " |      Append object to the end of the list.\n",
      " |  \n",
      " |  clear(self)\n",
      " |      Remove all items from list.\n",
      " |  \n",
      " |  count(self, e)\n",
      " |      Return number of occurrences of value.\n",
      " |  \n",
      " |  extend(self, l)\n",
      " |      Extend list by appending elements from the iterable.\n",
      " |  \n",
      " |  index(self, e)\n",
      " |      Return first index of value.\n",
      " |      \n",
      " |      Raises ValueError if the value is not present.\n",
      " |  \n",
      " |  insert(self, index, e)\n",
      " |      Insert object before index.\n",
      " |  \n",
      " |  pop(self, index)\n",
      " |      Remove and return item at index (default last).\n",
      " |      \n",
      " |      Raises IndexError if list is empty or index is out of range.\n",
      " |  \n",
      " |  populate(self)\n",
      " |  \n",
      " |  remove(self, e)\n",
      " |      Remove first occurrence of value.\n",
      " |      \n",
      " |      Raises ValueError if the value is not present.\n",
      " |  \n",
      " |  reverse(self)\n",
      " |      Reverse *IN PLACE*.\n",
      " |  \n",
      " |  sort(self, key=None, reverse=False)\n",
      " |      Stable sort *IN PLACE*.\n",
      " |  \n",
      " |  ----------------------------------------------------------------------\n",
      " |  Data and other attributes inherited from owlready2.util._LazyListMixin:\n",
      " |  \n",
      " |  __hash__ = None\n",
      " |  \n",
      " |  ----------------------------------------------------------------------\n",
      " |  Methods inherited from builtins.list:\n",
      " |  \n",
      " |  __add__(self, value, /)\n",
      " |      Return self+value.\n",
      " |  \n",
      " |  __contains__(self, key, /)\n",
      " |      Return key in self.\n",
      " |  \n",
      " |  __ge__(self, value, /)\n",
      " |      Return self>=value.\n",
      " |  \n",
      " |  __getattribute__(self, name, /)\n",
      " |      Return getattr(self, name).\n",
      " |  \n",
      " |  __gt__(self, value, /)\n",
      " |      Return self>value.\n",
      " |  \n",
      " |  __le__(self, value, /)\n",
      " |      Return self<=value.\n",
      " |  \n",
      " |  __lt__(self, value, /)\n",
      " |      Return self<value.\n",
      " |  \n",
      " |  __mul__(self, value, /)\n",
      " |      Return self*value.\n",
      " |  \n",
      " |  __reversed__(self, /)\n",
      " |      Return a reverse iterator over the list.\n",
      " |  \n",
      " |  __rmul__(self, value, /)\n",
      " |      Return value*self.\n",
      " |  \n",
      " |  __sizeof__(self, /)\n",
      " |      Return the size of the list in memory, in bytes.\n",
      " |  \n",
      " |  copy(self, /)\n",
      " |      Return a shallow copy of the list.\n",
      " |  \n",
      " |  ----------------------------------------------------------------------\n",
      " |  Static methods inherited from builtins.list:\n",
      " |  \n",
      " |  __new__(*args, **kwargs) from builtins.type\n",
      " |      Create and return a new object.  See help(type) for accurate signature.\n",
      "\n"
     ]
    }
   ],
   "source": [
    "help(onto.search())"
   ]
  },
  {
   "cell_type": "code",
   "execution_count": 16,
   "metadata": {},
   "outputs": [
    {
     "data": {
      "text/plain": [
       "[pizza_onto.CheeseTopping, pizza_onto.FishTopping, pizza_onto.MeatTopping, pizza_onto.TomatoTopping, pizza_onto.Topping]"
      ]
     },
     "execution_count": 16,
     "metadata": {},
     "output_type": "execute_result"
    }
   ],
   "source": [
    "onto.search(iri = \"*Topping\")"
   ]
  },
  {
   "cell_type": "code",
   "execution_count": 17,
   "metadata": {},
   "outputs": [
    {
     "data": {
      "text/plain": [
       "[]"
      ]
     },
     "execution_count": 17,
     "metadata": {},
     "output_type": "execute_result"
    }
   ],
   "source": [
    "onto.search(has_topping = \"*\")"
   ]
  },
  {
   "cell_type": "code",
   "execution_count": 18,
   "metadata": {},
   "outputs": [],
   "source": [
    "onto.search_one(label = \"my label\")"
   ]
  },
  {
   "cell_type": "code",
   "execution_count": 19,
   "metadata": {},
   "outputs": [
    {
     "data": {
      "text/plain": [
       "pizza_onto.Pizza"
      ]
     },
     "execution_count": 19,
     "metadata": {},
     "output_type": "execute_result"
    }
   ],
   "source": [
    "onto.search_one(is_a = onto.Pizza)"
   ]
  },
  {
   "cell_type": "code",
   "execution_count": 20,
   "metadata": {},
   "outputs": [
    {
     "data": {
      "text/plain": [
       "[]"
      ]
     },
     "execution_count": 20,
     "metadata": {},
     "output_type": "execute_result"
    }
   ],
   "source": [
    "onto.search(is_a = onto.Pizza, has_topping = onto.search(is_a = onto.TomatoTopping))"
   ]
  },
  {
   "cell_type": "code",
   "execution_count": null,
   "metadata": {},
   "outputs": [],
   "source": [
    "对于更复杂的查询，可以将SQPARQL与RDFlib一起使用（请参阅Worlds）。\n",
    "file:///C:/Users/Atticus/Desktop/%E6%9C%AC%E4%BD%93%E5%B7%A5%E5%85%B7/owlreadydoc/html/world.html      "
   ]
  },
  {
   "cell_type": "markdown",
   "metadata": {},
   "source": [
    "# 本体元数据"
   ]
  },
  {
   "cell_type": "code",
   "execution_count": 23,
   "metadata": {},
   "outputs": [
    {
     "name": "stdout",
     "output_type": "stream",
     "text": [
      "['my first comment']\n"
     ]
    }
   ],
   "source": [
    "print(onto.metadata.comment)"
   ]
  },
  {
   "cell_type": "code",
   "execution_count": 22,
   "metadata": {},
   "outputs": [],
   "source": [
    "onto.metadata.comment.append(\"my first comment\")"
   ]
  },
  {
   "cell_type": "markdown",
   "metadata": {},
   "source": [
    "# 导入其他本体"
   ]
  },
  {
   "cell_type": "code",
   "execution_count": 24,
   "metadata": {},
   "outputs": [
    {
     "ename": "NameError",
     "evalue": "name 'owlready_ontology' is not defined",
     "output_type": "error",
     "traceback": [
      "\u001b[1;31m---------------------------------------------------------------------------\u001b[0m",
      "\u001b[1;31mNameError\u001b[0m                                 Traceback (most recent call last)",
      "\u001b[1;32m<ipython-input-24-baece8483cf2>\u001b[0m in \u001b[0;36m<module>\u001b[1;34m()\u001b[0m\n\u001b[1;32m----> 1\u001b[1;33m \u001b[0monto\u001b[0m\u001b[1;33m.\u001b[0m\u001b[0mimported_ontologies\u001b[0m\u001b[1;33m.\u001b[0m\u001b[0mappend\u001b[0m\u001b[1;33m(\u001b[0m\u001b[0mowlready_ontology\u001b[0m\u001b[1;33m)\u001b[0m\u001b[1;33m\u001b[0m\u001b[0m\n\u001b[0m",
      "\u001b[1;31mNameError\u001b[0m: name 'owlready_ontology' is not defined"
     ]
    }
   ],
   "source": [
    "onto.imported_ontologies.append(owlready_ontology)"
   ]
  },
  {
   "cell_type": "markdown",
   "metadata": {},
   "source": [
    "# 将本体保存到OWL文件中\n",
    "本体的.save（）方法可用于保存它。它将保存在on_path的第一个目录中。"
   ]
  },
  {
   "cell_type": "code",
   "execution_count": 2,
   "metadata": {},
   "outputs": [],
   "source": [
    "onto_path.append(\"repository\")"
   ]
  },
  {
   "cell_type": "code",
   "execution_count": null,
   "metadata": {},
   "outputs": [],
   "source": [
    "onto.save()\n",
    "onto.save(file = \"filename or fileobj\", format = \"rdfxml\")#\"ntriples\""
   ]
  }
 ],
 "metadata": {
  "kernelspec": {
   "display_name": "Python 3",
   "language": "python",
   "name": "python3"
  },
  "language_info": {
   "codemirror_mode": {
    "name": "ipython",
    "version": 3
   },
   "file_extension": ".py",
   "mimetype": "text/x-python",
   "name": "python",
   "nbconvert_exporter": "python",
   "pygments_lexer": "ipython3",
   "version": "3.7.0"
  }
 },
 "nbformat": 4,
 "nbformat_minor": 2
}
