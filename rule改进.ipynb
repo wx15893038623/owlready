{
 "cells": [
  {
   "cell_type": "code",
   "execution_count": 1,
   "metadata": {},
   "outputs": [
    {
     "name": "stderr",
     "output_type": "stream",
     "text": [
      "* Owlready2 * Warning: optimized Cython parser module 'owlready2_optimized' is not available, defaulting to slower Python implementation\n"
     ]
    }
   ],
   "source": [
    "from datetime import timedelta\n",
    "\n",
    "from owlready2 import *\n",
    "\n",
    "onto = get_ontology(\"http://test.org/onto.owl\")"
   ]
  },
  {
   "cell_type": "code",
   "execution_count": 2,
   "metadata": {},
   "outputs": [],
   "source": [
    "with onto:\n",
    "    class Error(Thing):pass\n",
    "    class timerange_start_at(Error >> datetime.datetime, FunctionalProperty):\n",
    "        python_name = \"start\"\n",
    "    class timerange_end_at(Error >> datetime.datetime, FunctionalProperty):\n",
    "        python_name = \"end\"\n",
    "    class error_at(Error >> datetime.datetime, FunctionalProperty):\n",
    "        python_name = \"appeared\"\n",
    "    class is_after_start(Error >> bool, FunctionalProperty) : pass\n",
    "    class is_before_end(Error >> bool, FunctionalProperty): pass\n",
    "\n",
    "    class TimeRangeRelatedError(Error):\n",
    "        equivalent_to = [Error & is_after_start & is_before_end]\n",
    "\n",
    "    rule1 = Imp()\n",
    "    rule1.set_as_rule(\"\"\"Error(?d), timerange_start_at(?d, ?s), error_at(?d, ?b), greaterThan(?s, ?b) -> is_after_start(?d)\"\"\")\n",
    "    rule2 = Imp()\n",
    "    rule2.set_as_rule(\"\"\"Error(?d), timerange_end_at(?d, ?e), error_at(?d, ?b), lessThan(?e, ?b) -> is_before_end(?d)\"\"\")\n",
    "\n"
   ]
  },
  {
   "cell_type": "code",
   "execution_count": 3,
   "metadata": {},
   "outputs": [],
   "source": [
    "current = datetime.datetime.now()\n",
    "start = current - timedelta(days=1)\n",
    "end = current + timedelta(days=1)"
   ]
  },
  {
   "cell_type": "code",
   "execution_count": 4,
   "metadata": {},
   "outputs": [],
   "source": [
    "error = Error(start = start, end = end, appeared = current)"
   ]
  },
  {
   "cell_type": "code",
   "execution_count": 5,
   "metadata": {},
   "outputs": [],
   "source": [
    "close_world(Error)"
   ]
  },
  {
   "cell_type": "code",
   "execution_count": 6,
   "metadata": {},
   "outputs": [
    {
     "name": "stdout",
     "output_type": "stream",
     "text": [
      "Error old Classes: onto.Error\n"
     ]
    }
   ],
   "source": [
    "print(\"Error old Classes:\", error.__class__)"
   ]
  },
  {
   "cell_type": "code",
   "execution_count": 7,
   "metadata": {},
   "outputs": [],
   "source": [
    "onto.save(file=\"owlreasoner/rules.owl\")"
   ]
  },
  {
   "cell_type": "code",
   "execution_count": 10,
   "metadata": {},
   "outputs": [
    {
     "name": "stderr",
     "output_type": "stream",
     "text": [
      "* Owlready2 * Running Pellet...\n",
      "    java -Xmx2000M -cp E:\\Programs\\Anaconda3\\lib\\site-packages\\owlready2\\pellet\\antlr-3.2.jar;E:\\Programs\\Anaconda3\\lib\\site-packages\\owlready2\\pellet\\antlr-runtime-3.2.jar;E:\\Programs\\Anaconda3\\lib\\site-packages\\owlready2\\pellet\\aterm-java-1.6.jar;E:\\Programs\\Anaconda3\\lib\\site-packages\\owlready2\\pellet\\commons-codec-1.6.jar;E:\\Programs\\Anaconda3\\lib\\site-packages\\owlready2\\pellet\\httpclient-4.2.3.jar;E:\\Programs\\Anaconda3\\lib\\site-packages\\owlready2\\pellet\\httpcore-4.2.2.jar;E:\\Programs\\Anaconda3\\lib\\site-packages\\owlready2\\pellet\\jcl-over-slf4j-1.6.4.jar;E:\\Programs\\Anaconda3\\lib\\site-packages\\owlready2\\pellet\\jena-arq-2.10.0.jar;E:\\Programs\\Anaconda3\\lib\\site-packages\\owlready2\\pellet\\jena-core-2.10.0.jar;E:\\Programs\\Anaconda3\\lib\\site-packages\\owlready2\\pellet\\jena-iri-0.9.5.jar;E:\\Programs\\Anaconda3\\lib\\site-packages\\owlready2\\pellet\\jena-tdb-0.10.0.jar;E:\\Programs\\Anaconda3\\lib\\site-packages\\owlready2\\pellet\\jgrapht-jdk1.5.jar;E:\\Programs\\Anaconda3\\lib\\site-packages\\owlready2\\pellet\\log4j-1.2.16.jar;E:\\Programs\\Anaconda3\\lib\\site-packages\\owlready2\\pellet\\owlapi-distribution-3.4.3-bin.jar;E:\\Programs\\Anaconda3\\lib\\site-packages\\owlready2\\pellet\\pellet-2.3.1.jar;E:\\Programs\\Anaconda3\\lib\\site-packages\\owlready2\\pellet\\slf4j-api-1.6.4.jar;E:\\Programs\\Anaconda3\\lib\\site-packages\\owlready2\\pellet\\slf4j-log4j12-1.6.4.jar;E:\\Programs\\Anaconda3\\lib\\site-packages\\owlready2\\pellet\\xercesImpl-2.10.0.jar;E:\\Programs\\Anaconda3\\lib\\site-packages\\owlready2\\pellet\\xml-apis-1.4.01.jar pellet.Pellet realize --loader Jena --input-format N-Triples --infer-prop-values --infer-data-prop-values --ignore-imports C:\\Users\\Atticus\\AppData\\Local\\Temp\\tmp42g11olq\n"
     ]
    },
    {
     "ename": "UnicodeDecodeError",
     "evalue": "'utf-8' codec can't decode byte 0xd4 in position 232: invalid continuation byte",
     "output_type": "error",
     "traceback": [
      "\u001b[1;31m---------------------------------------------------------------------------\u001b[0m",
      "\u001b[1;31mCalledProcessError\u001b[0m                        Traceback (most recent call last)",
      "\u001b[1;32mE:\\Programs\\Anaconda3\\lib\\site-packages\\owlready2\\reasoning.py\u001b[0m in \u001b[0;36msync_reasoner_pellet\u001b[1;34m(x, infer_property_values, infer_data_property_values, debug, keep_tmp_file)\u001b[0m\n\u001b[0;32m    245\u001b[0m     \u001b[1;32mtry\u001b[0m\u001b[1;33m:\u001b[0m\u001b[1;33m\u001b[0m\u001b[0m\n\u001b[1;32m--> 246\u001b[1;33m       \u001b[0moutput\u001b[0m \u001b[1;33m=\u001b[0m \u001b[0msubprocess\u001b[0m\u001b[1;33m.\u001b[0m\u001b[0mrun\u001b[0m\u001b[1;33m(\u001b[0m\u001b[0mcommand\u001b[0m\u001b[1;33m,\u001b[0m \u001b[0mstdout\u001b[0m \u001b[1;33m=\u001b[0m \u001b[0msubprocess\u001b[0m\u001b[1;33m.\u001b[0m\u001b[0mPIPE\u001b[0m\u001b[1;33m,\u001b[0m \u001b[0mstderr\u001b[0m \u001b[1;33m=\u001b[0m \u001b[0msubprocess\u001b[0m\u001b[1;33m.\u001b[0m\u001b[0mPIPE\u001b[0m\u001b[1;33m,\u001b[0m \u001b[0mcheck\u001b[0m \u001b[1;33m=\u001b[0m \u001b[1;32mTrue\u001b[0m\u001b[1;33m)\u001b[0m\u001b[1;33m.\u001b[0m\u001b[0mstdout\u001b[0m\u001b[1;33m\u001b[0m\u001b[0m\n\u001b[0m\u001b[0;32m    247\u001b[0m     \u001b[1;32mexcept\u001b[0m \u001b[0msubprocess\u001b[0m\u001b[1;33m.\u001b[0m\u001b[0mCalledProcessError\u001b[0m \u001b[1;32mas\u001b[0m \u001b[0me\u001b[0m\u001b[1;33m:\u001b[0m\u001b[1;33m\u001b[0m\u001b[0m\n",
      "\u001b[1;32mE:\\Programs\\Anaconda3\\lib\\subprocess.py\u001b[0m in \u001b[0;36mrun\u001b[1;34m(input, capture_output, timeout, check, *popenargs, **kwargs)\u001b[0m\n\u001b[0;32m    467\u001b[0m             raise CalledProcessError(retcode, process.args,\n\u001b[1;32m--> 468\u001b[1;33m                                      output=stdout, stderr=stderr)\n\u001b[0m\u001b[0;32m    469\u001b[0m     \u001b[1;32mreturn\u001b[0m \u001b[0mCompletedProcess\u001b[0m\u001b[1;33m(\u001b[0m\u001b[0mprocess\u001b[0m\u001b[1;33m.\u001b[0m\u001b[0margs\u001b[0m\u001b[1;33m,\u001b[0m \u001b[0mretcode\u001b[0m\u001b[1;33m,\u001b[0m \u001b[0mstdout\u001b[0m\u001b[1;33m,\u001b[0m \u001b[0mstderr\u001b[0m\u001b[1;33m)\u001b[0m\u001b[1;33m\u001b[0m\u001b[0m\n",
      "\u001b[1;31mCalledProcessError\u001b[0m: Command '['java', '-Xmx2000M', '-cp', 'E:\\\\Programs\\\\Anaconda3\\\\lib\\\\site-packages\\\\owlready2\\\\pellet\\\\antlr-3.2.jar;E:\\\\Programs\\\\Anaconda3\\\\lib\\\\site-packages\\\\owlready2\\\\pellet\\\\antlr-runtime-3.2.jar;E:\\\\Programs\\\\Anaconda3\\\\lib\\\\site-packages\\\\owlready2\\\\pellet\\\\aterm-java-1.6.jar;E:\\\\Programs\\\\Anaconda3\\\\lib\\\\site-packages\\\\owlready2\\\\pellet\\\\commons-codec-1.6.jar;E:\\\\Programs\\\\Anaconda3\\\\lib\\\\site-packages\\\\owlready2\\\\pellet\\\\httpclient-4.2.3.jar;E:\\\\Programs\\\\Anaconda3\\\\lib\\\\site-packages\\\\owlready2\\\\pellet\\\\httpcore-4.2.2.jar;E:\\\\Programs\\\\Anaconda3\\\\lib\\\\site-packages\\\\owlready2\\\\pellet\\\\jcl-over-slf4j-1.6.4.jar;E:\\\\Programs\\\\Anaconda3\\\\lib\\\\site-packages\\\\owlready2\\\\pellet\\\\jena-arq-2.10.0.jar;E:\\\\Programs\\\\Anaconda3\\\\lib\\\\site-packages\\\\owlready2\\\\pellet\\\\jena-core-2.10.0.jar;E:\\\\Programs\\\\Anaconda3\\\\lib\\\\site-packages\\\\owlready2\\\\pellet\\\\jena-iri-0.9.5.jar;E:\\\\Programs\\\\Anaconda3\\\\lib\\\\site-packages\\\\owlready2\\\\pellet\\\\jena-tdb-0.10.0.jar;E:\\\\Programs\\\\Anaconda3\\\\lib\\\\site-packages\\\\owlready2\\\\pellet\\\\jgrapht-jdk1.5.jar;E:\\\\Programs\\\\Anaconda3\\\\lib\\\\site-packages\\\\owlready2\\\\pellet\\\\log4j-1.2.16.jar;E:\\\\Programs\\\\Anaconda3\\\\lib\\\\site-packages\\\\owlready2\\\\pellet\\\\owlapi-distribution-3.4.3-bin.jar;E:\\\\Programs\\\\Anaconda3\\\\lib\\\\site-packages\\\\owlready2\\\\pellet\\\\pellet-2.3.1.jar;E:\\\\Programs\\\\Anaconda3\\\\lib\\\\site-packages\\\\owlready2\\\\pellet\\\\slf4j-api-1.6.4.jar;E:\\\\Programs\\\\Anaconda3\\\\lib\\\\site-packages\\\\owlready2\\\\pellet\\\\slf4j-log4j12-1.6.4.jar;E:\\\\Programs\\\\Anaconda3\\\\lib\\\\site-packages\\\\owlready2\\\\pellet\\\\xercesImpl-2.10.0.jar;E:\\\\Programs\\\\Anaconda3\\\\lib\\\\site-packages\\\\owlready2\\\\pellet\\\\xml-apis-1.4.01.jar', 'pellet.Pellet', 'realize', '--loader', 'Jena', '--input-format', 'N-Triples', '--infer-prop-values', '--infer-data-prop-values', '--ignore-imports', 'C:\\\\Users\\\\Atticus\\\\AppData\\\\Local\\\\Temp\\\\tmp42g11olq']' returned non-zero exit status 1.",
      "\nDuring handling of the above exception, another exception occurred:\n",
      "\u001b[1;31mUnicodeDecodeError\u001b[0m                        Traceback (most recent call last)",
      "\u001b[1;32m<ipython-input-10-424673f8e151>\u001b[0m in \u001b[0;36m<module>\u001b[1;34m()\u001b[0m\n\u001b[1;32m----> 1\u001b[1;33m \u001b[0msync_reasoner_pellet\u001b[0m\u001b[1;33m(\u001b[0m\u001b[0minfer_property_values\u001b[0m \u001b[1;33m=\u001b[0m \u001b[1;32mTrue\u001b[0m\u001b[1;33m,\u001b[0m \u001b[0minfer_data_property_values\u001b[0m \u001b[1;33m=\u001b[0m \u001b[1;32mTrue\u001b[0m\u001b[1;33m)\u001b[0m\u001b[1;33m\u001b[0m\u001b[0m\n\u001b[0m",
      "\u001b[1;32mE:\\Programs\\Anaconda3\\lib\\site-packages\\owlready2\\reasoning.py\u001b[0m in \u001b[0;36msync_reasoner_pellet\u001b[1;34m(x, infer_property_values, infer_data_property_values, debug, keep_tmp_file)\u001b[0m\n\u001b[0;32m    249\u001b[0m         \u001b[1;32mraise\u001b[0m \u001b[0mOwlReadyInconsistentOntologyError\u001b[0m\u001b[1;33m(\u001b[0m\u001b[1;33m)\u001b[0m\u001b[1;33m\u001b[0m\u001b[0m\n\u001b[0;32m    250\u001b[0m       \u001b[1;32melse\u001b[0m\u001b[1;33m:\u001b[0m\u001b[1;33m\u001b[0m\u001b[0m\n\u001b[1;32m--> 251\u001b[1;33m         \u001b[1;32mraise\u001b[0m \u001b[0mOwlReadyJavaError\u001b[0m\u001b[1;33m(\u001b[0m\u001b[1;34m\"Java error message is:\\n%s\"\u001b[0m \u001b[1;33m%\u001b[0m \u001b[1;33m(\u001b[0m\u001b[0me\u001b[0m\u001b[1;33m.\u001b[0m\u001b[0mstderr\u001b[0m \u001b[1;32mor\u001b[0m \u001b[0me\u001b[0m\u001b[1;33m.\u001b[0m\u001b[0moutput\u001b[0m \u001b[1;32mor\u001b[0m \u001b[1;34mb\"\"\u001b[0m\u001b[1;33m)\u001b[0m\u001b[1;33m.\u001b[0m\u001b[0mdecode\u001b[0m\u001b[1;33m(\u001b[0m\u001b[1;34m\"utf8\"\u001b[0m\u001b[1;33m)\u001b[0m\u001b[1;33m)\u001b[0m\u001b[1;33m\u001b[0m\u001b[0m\n\u001b[0m\u001b[0;32m    252\u001b[0m \u001b[1;33m\u001b[0m\u001b[0m\n\u001b[0;32m    253\u001b[0m     \u001b[1;32mtry\u001b[0m\u001b[1;33m:\u001b[0m\u001b[1;33m\u001b[0m\u001b[0m\n",
      "\u001b[1;31mUnicodeDecodeError\u001b[0m: 'utf-8' codec can't decode byte 0xd4 in position 232: invalid continuation byte"
     ]
    }
   ],
   "source": [
    "sync_reasoner_pellet(infer_property_values = True, infer_data_property_values = True)"
   ]
  },
  {
   "cell_type": "code",
   "execution_count": 9,
   "metadata": {},
   "outputs": [
    {
     "name": "stdout",
     "output_type": "stream",
     "text": [
      "Error new Classes: onto.Error\n"
     ]
    }
   ],
   "source": [
    "print(\"Error new Classes:\", error.__class__)"
   ]
  }
 ],
 "metadata": {
  "kernelspec": {
   "display_name": "Python 3",
   "language": "python",
   "name": "python3"
  },
  "language_info": {
   "codemirror_mode": {
    "name": "ipython",
    "version": 3
   },
   "file_extension": ".py",
   "mimetype": "text/x-python",
   "name": "python",
   "nbconvert_exporter": "python",
   "pygments_lexer": "ipython3",
   "version": "3.7.0"
  }
 },
 "nbformat": 4,
 "nbformat_minor": 2
}
